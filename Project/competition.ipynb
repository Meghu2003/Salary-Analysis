{
  "nbformat": 4,
  "nbformat_minor": 0,
  "metadata": {
    "colab": {
      "provenance": []
    },
    "kernelspec": {
      "name": "python3",
      "display_name": "Python 3"
    },
    "language_info": {
      "name": "python"
    }
  },
  "cells": [
    {
      "cell_type": "code",
      "source": [],
      "metadata": {
        "id": "pJki1ld1vplV"
      },
      "execution_count": null,
      "outputs": []
    },
    {
      "cell_type": "code",
      "source": [
        "import streamlit as st"
      ],
      "metadata": {
        "id": "WrCEAhQrEiWd"
      },
      "execution_count": 22,
      "outputs": []
    },
    {
      "cell_type": "code",
      "source": [
        "st.markdown"
      ],
      "metadata": {
        "id": "MNTk62iwEkq4"
      },
      "execution_count": null,
      "outputs": []
    },
    {
      "cell_type": "code",
      "source": [
        "%%writefile app.py\n",
        "import streamlit as st\n",
        "st.set_page_config(layout='wide',page_title='Salary Analysis')\n",
        "import matplotlib.pyplot as plt\n",
        "import pandas as pd\n",
        "import numpy as np\n",
        "import seaborn as sns\n",
        "\n",
        "ds_salaries=pd.read_csv('/content/ds_salaries.csv')\n",
        "del ds_salaries['Unnamed: 0']\n",
        "cols1=ds_salaries['job_title'].unique()\n",
        "cols2=['work_year','experience_level','employment_type','salary_currency','employee_residence','company_location','company_size']\n",
        "tab1,tab2=st.tabs(['Visualisation','Analysis'])\n",
        "with tab1:\n",
        "  col1,col2,col3=st.columns(3)\n",
        "  with col1:\n",
        "    st.title('Welcome to Visualisation🙂')\n",
        "    st.header(\"Let's see the graphs and get clarity😉.(Please fill the required information)\")\n",
        "    sel=st.multiselect('Select the Job you want to know about',cols1)\n",
        "  for i in sel:\n",
        "    with col2:\n",
        "      fig1=plt.figure()\n",
        "      ax1=fig1.add_subplot()\n",
        "      sns.barplot(x='employment_type',y='salary',hue='experience_level',data=ds_salaries[ds_salaries['job_title']==i],errorbar=None,ax=ax1)\n",
        "      ax1.legend(loc='upper right',labels=['Entry','Middle','Senior','Expert'])\n",
        "      fig1.suptitle(i)\n",
        "      st.pyplot(fig1)\n",
        "    with col3:\n",
        "      fig2=plt.figure()\n",
        "      ax2=fig2.add_subplot()\n",
        "      ax2.plot(ds_salaries[ds_salaries['job_title']==i]['work_year'].value_counts().sort_index(),marker='+')\n",
        "      ax2.set_xticks([2020,2021,2022])\n",
        "      ax2.set_xlabel('Working Years')\n",
        "      fig2.suptitle(i)\n",
        "      st.pyplot(fig2)\n",
        "with tab2:\n",
        "  col1,col2=st.columns(2)\n",
        "  with col1:\n",
        "    st.title('Welcome to Analysis🙂')\n",
        "    st.header(\"Let's see the content and get clarity about the particular job😉.(Please fill the required information)\")\n",
        "    sel=st.selectbox('Select the Job you want to know about',cols1)\n",
        "    col=st.select_slider('Select the Attribute',cols2)\n",
        "  with col2:\n",
        "    val=ds_salaries[ds_salaries['job_title']==sel][col].value_counts()\n",
        "    for j in val.index:\n",
        "      st.write(j,val[j])"
      ],
      "metadata": {
        "colab": {
          "base_uri": "https://localhost:8080/"
        },
        "id": "Pqk8MyyfwuCX",
        "outputId": "5fbc5d9a-e97f-40a6-e8b2-87af7c197202"
      },
      "execution_count": 96,
      "outputs": [
        {
          "output_type": "stream",
          "name": "stdout",
          "text": [
            "Overwriting app.py\n"
          ]
        }
      ]
    },
    {
      "cell_type": "code",
      "source": [
        "!streamlit run app.py & npx localtunnel --port 8501"
      ],
      "metadata": {
        "id": "hHCGSLEYDBbC"
      },
      "execution_count": null,
      "outputs": []
    }
  ]
}